{
  "nbformat": 4,
  "nbformat_minor": 0,
  "metadata": {
    "colab": {
      "provenance": []
    },
    "kernelspec": {
      "name": "python3",
      "display_name": "Python 3"
    },
    "language_info": {
      "name": "python"
    }
  },
  "cells": [
    {
      "cell_type": "markdown",
      "source": [
        "Nama  : Nera Sagita Fradityas\n",
        "\n",
        "NIM   : 2100015014\n",
        "\n",
        "TUGAS PYTHONE PSDS PERTEMUAN 6 (15 JUNI 2023)"
      ],
      "metadata": {
        "id": "3Pn6j7SiCKpq"
      }
    },
    {
      "cell_type": "markdown",
      "source": [
        "**Pengenalan Phyton**\n",
        "\n",
        "Phyton adalah Bahasa pemrograman tingkat tinggi dengan dynamic semantics, bersifat object\n",
        "oriented, dan interpretatif. Bahasa pemrograman ini fokus dikembangkan pada keterbacaan\n",
        "bahasa pemrograman.\n",
        "1. Bahasa Pemrograman Tingkat Tinggi (High Level Programming) Artinya sintaks kode\n",
        "lebih mudah ditafsirkan oleh manusia.\n",
        "2. Interpretatif Ini artinya bahasa ini memerlukan intrepeter atau penerjemah. Ini\n",
        "memungkinkan kita untuk menggunakan Bahasa yang lebih mudah kita pahami.\n",
        "3. Object Oriented Ini berarti bahwa bahasa pemrograman ini berorientasi kepada objek. Hal\n",
        "ini membuat Phyton lebih mudah untuk dikembangkan.\n",
        "4. Dynamic Semantic Phyton secara otomatis akan menyesuaikan tipe dari suatu variable\n",
        "berdasarkan inputnya.\n",
        "\n",
        "**Mengapa Phyton ?**\n",
        "\n",
        "1. Mudah dipahami\n",
        "2. Grafi s & Open Source\n",
        "3. Dinamis\n",
        "4. Memiliki Library Terlengkap untuk Data Sains\n",
        "\n",
        "**Struktur Program Pada Phyton**\n",
        "\n",
        "Phyton pada umumnya terdiri dari :\n",
        "1. **Statement**"
      ],
      "metadata": {
        "id": "T75GolrZ-6sM"
      }
    },
    {
      "cell_type": "code",
      "source": [
        "print(\"belajar phyton menyenagkan\")\n",
        "print(\"halo dunia\")"
      ],
      "metadata": {
        "colab": {
          "base_uri": "https://localhost:8080/"
        },
        "id": "6C1vHJ7x_IVp",
        "outputId": "6c723591-fc1a-4762-dca9-b00d05ed00ca"
      },
      "execution_count": 1,
      "outputs": [
        {
          "output_type": "stream",
          "name": "stdout",
          "text": [
            "belajar phyton menyenagkan\n",
            "halo dunia\n"
          ]
        }
      ]
    },
    {
      "cell_type": "markdown",
      "source": [
        "2. **Variabels**"
      ],
      "metadata": {
        "id": "JRtHM2gl_5Tb"
      }
    },
    {
      "cell_type": "code",
      "execution_count": 2,
      "metadata": {
        "id": "vujCMw7w-k5h"
      },
      "outputs": [],
      "source": [
        "bilangan1 = 5\n",
        "bilangan2 = 10\n",
        "kalimat = \"Pejuang Data 3\""
      ]
    },
    {
      "cell_type": "markdown",
      "source": [
        "3. **Literals** : Simbol-simbol yang dapat kita gunakan untuk mengisi suatu variable.\n",
        "4. **Operators** : Simbol-simbol yang dapat digunakan untuk mengubah nilai dari satu variable\n",
        "dengan melibatkan satu atau lebih variable dan literal"
      ],
      "metadata": {
        "id": "b5GliWNQAv91"
      }
    },
    {
      "cell_type": "code",
      "source": [
        "bilangan1 + bilangan2"
      ],
      "metadata": {
        "colab": {
          "base_uri": "https://localhost:8080/"
        },
        "id": "Cj1m3CHYACwn",
        "outputId": "fcf1d424-ad69-4b8e-b1c5-90694ae3434a"
      },
      "execution_count": 3,
      "outputs": [
        {
          "output_type": "execute_result",
          "data": {
            "text/plain": [
              "15"
            ]
          },
          "metadata": {},
          "execution_count": 3
        }
      ]
    },
    {
      "cell_type": "markdown",
      "source": [
        "5. **Reserved Words** : Kumpulan kata-kata yang memiliki makna khusus dalam bahasa\n",
        "pemrograman Phyton. Kata false , return , dan for merupakan contoh dari reserved\n",
        "words.\n",
        "6. **Whitespace** : Pada bahasa Phyton, spasi dan tab memiliki makna khusus untuk menandai\n",
        "serangkaian blok dalam kode Phyton.\n",
        "7. **Comments** : Comments merupakan sekumpulan teks yang dituliskan di dalam sebuah\n",
        "program yang tidak akan mempengaruhi hasil dari sebuah pemrograman.\n",
        "\n",
        "Terdapat dua jenis comments di dalam Phyton, yaitu :\n",
        "\n",
        "a. **single line comment** (comments dalam satu baris) seperti contoh berikut :"
      ],
      "metadata": {
        "id": "ouzE4zjOA-yt"
      }
    },
    {
      "cell_type": "code",
      "source": [
        "# Ini adalah Comment\n",
        "print(\"belajar Phyton\")"
      ],
      "metadata": {
        "colab": {
          "base_uri": "https://localhost:8080/"
        },
        "id": "WmfiDwXRA42I",
        "outputId": "2b299c65-aade-4b77-d69e-e8e178d16411"
      },
      "execution_count": 6,
      "outputs": [
        {
          "output_type": "stream",
          "name": "stdout",
          "text": [
            "belajar Phyton\n"
          ]
        }
      ]
    },
    {
      "cell_type": "markdown",
      "source": [
        "b. **multi line comment** (comments dalam beberapa baris) yang dapat dilakukan\n",
        "seperti pada contoh berikut :"
      ],
      "metadata": {
        "id": "iGjqi4GkBkAM"
      }
    },
    {
      "cell_type": "code",
      "source": [
        "'''\n",
        "Ini adalah komentar panjang\n",
        "Bisa digunakan untuk memberikan penjelasan\n",
        "panjang pada Sell Kode Phyton,\n",
        "Misal dokumentasi program, spesifikasi\n",
        "input output atau lainnya\n",
        "\n",
        "'''"
      ],
      "metadata": {
        "colab": {
          "base_uri": "https://localhost:8080/",
          "height": 53
        },
        "id": "-SxfY1sSBUPK",
        "outputId": "404ee202-b999-4bab-ada8-c1f855f2b297"
      },
      "execution_count": 8,
      "outputs": [
        {
          "output_type": "execute_result",
          "data": {
            "text/plain": [
              "'\\nIni adalah komentar panjang\\nBisa digunakan untuk memberikan penjelasan\\npanjang pada Sell Kode Phyton,\\nMisal dokumentasi program, spesifikasi\\ninput output atau lainnya\\n\\n'"
            ],
            "application/vnd.google.colaboratory.intrinsic+json": {
              "type": "string"
            }
          },
          "metadata": {},
          "execution_count": 8
        }
      ]
    },
    {
      "cell_type": "code",
      "source": [
        "print('Belajar Phyton menyenangkan')"
      ],
      "metadata": {
        "colab": {
          "base_uri": "https://localhost:8080/"
        },
        "id": "hSmnkUetBwKx",
        "outputId": "96cf8395-bbe8-4b2c-a29d-81008f0afa34"
      },
      "execution_count": 11,
      "outputs": [
        {
          "output_type": "stream",
          "name": "stdout",
          "text": [
            "Belajar Phyton menyenangkan\n"
          ]
        }
      ]
    }
  ]
}